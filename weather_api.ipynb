{
  "nbformat": 4,
  "nbformat_minor": 0,
  "metadata": {
    "colab": {
      "name": "weather_api.ipynb",
      "provenance": [],
      "collapsed_sections": [],
      "authorship_tag": "ABX9TyOyXz20Ge1QrFQKVlCxq+fJ",
      "include_colab_link": true
    },
    "kernelspec": {
      "name": "python3",
      "display_name": "Python 3"
    },
    "language_info": {
      "name": "python"
    }
  },
  "cells": [
    {
      "cell_type": "markdown",
      "metadata": {
        "id": "view-in-github",
        "colab_type": "text"
      },
      "source": [
        "<a href=\"https://colab.research.google.com/github/fnmshello/weather_api/blob/main/weather_api.ipynb\" target=\"_parent\"><img src=\"https://colab.research.google.com/assets/colab-badge.svg\" alt=\"Open In Colab\"/></a>"
      ]
    },
    {
      "cell_type": "code",
      "metadata": {
        "colab": {
          "base_uri": "https://localhost:8080/"
        },
        "id": "huxh5S4T-YE7",
        "outputId": "beb3874d-cd71-432d-e7b4-53f524defce6"
      },
      "source": [
        "import requests\n",
        "import os\n",
        "from datetime import datetime\n",
        "\n",
        "api_key = '83bb53892a76acc87546a67d718f9555'\n",
        "location = input(\"Enter the City Name: \")\n",
        "\n",
        "complete_api_link = \"https://api.openweathermap.org/data/2.5/weather?q=\" + location + \"&appid=\" + api_key\n",
        "api_link = requests.get(complete_api_link)\n",
        "api_data = api_link.json()\n",
        "\n",
        "# create variables to store and display data\n",
        "temp_city = ((api_data['main']['temp']) - 273.15)\n",
        "weather_desc = api_data['weather'][0]['description']\n",
        "hmdt = api_data['main']['humidity']\n",
        "prse = api_data['main']['pressure']\n",
        "wind_spd = api_data['wind']['speed']\n",
        "date_time = datetime.now().strftime(\"%d %b %Y & %I:%M:%S %p\")\n",
        "temp_f = api_data['main']['temp']\n",
        "country = api_data['sys']['country']\n",
        "corrd_lon = api_data['coord']['lon']\n",
        "corrd_lat = api_data['coord']['lat']\n",
        "\n",
        "\n",
        "print(\"|| ------------------------------------------------- ||\")\n",
        "print(\"   Weather Stats :: {}, {}\".format(location.upper(), country))\n",
        "print(\"   Coordinates : {}, {}\".format(corrd_lat, corrd_lon))\n",
        "print(\"   Date & Time :\", date_time)\n",
        "print(\"|| ------------------------------------------------- ||\")\n",
        "\n",
        "print(\"   Current Temperature (C/F): {:.2f} deg C / {: } F\".format(temp_city, temp_f))\n",
        "print(\"   Current Weather Desc  :\", weather_desc)\n",
        "print(\"   Current Humidity      :\",hmdt,\"%\")\n",
        "print(\"   Current Pressure      :\", prse,\"Pa\")\n",
        "print(\"   Current Wind speed    :\", wind_spd, 'kmph')\n",
        "\n",
        "print(\"   =================================================\")\n",
        "\n",
        "# making a list so that i can print the info to a txt\n",
        "txtlist = [temp_city, weather_desc, hmdt, wind_spd, date_time]\n",
        "# using open() buit-in function to write to a text file\n",
        "with open(\"textfile.txt\", mode='w', encoding='utf-8') as f:\n",
        "    # encoding = utf-8 for linux and cp1252 for win\n",
        "    f.write(\"------------------------------------------------------------- \\n \")\n",
        "    f.write(\"Weather Stats for - {}  || {}\".format(location.upper(), date_time))\n",
        "    f.write(\"\\n ------------------------------------------------------------- \\n\")\n",
        "    f.write(\"Current temperature is: {:.2f} deg C\\n\".format(txtlist[0]))\n",
        "\n",
        "    f.write(\"{},{} \\n\".format(\"Current weather desc  :\", txtlist[1]))\n",
        "    f.write(\"{},{},{} \\n\".format(\"Current Humidity      :\", txtlist[2], \"%\"))\n",
        "    f.write(\"{},{},{} \\n\".format(\"Current wind speed    :\", txtlist[3], \"kmph\"))\n",
        "    f.write(\"====================================================\")"
      ],
      "execution_count": 2,
      "outputs": [
        {
          "output_type": "stream",
          "text": [
            "Enter the City Name: Delhi\n",
            "|| ------------------------------------------------- ||\n",
            "   Weather Stats :: DELHI, IN\n",
            "   Coordinates : 28.6667, 77.2167\n",
            "   Date & Time : 27 Jul 2021 & 05:24:04 PM\n",
            "|| ------------------------------------------------- ||\n",
            "   Current Temperature (C/F): 28.05 deg C /  301.2 F\n",
            "   Current Weather Desc  : mist\n",
            "   Current Humidity      : 94 %\n",
            "   Current Pressure      : 997 Pa\n",
            "   Current Wind speed    : 1.54 kmph\n",
            "   =================================================\n"
          ],
          "name": "stdout"
        }
      ]
    }
  ]
}